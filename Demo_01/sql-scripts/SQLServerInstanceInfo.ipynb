{
    "metadata": {
        "kernelspec": {
            "name": "SQL",
            "display_name": "SQL",
            "language": "sql"
        },
        "language_info": {
            "name": "sql",
            "version": ""
        }
    },
    "nbformat_minor": 2,
    "nbformat": 4,
    "cells": [
        {
            "cell_type": "markdown",
            "source": [
                "<span style=\"color: #d95d30; font-size:40.0pt; font-style: bold;\">Ubuntu Masters</span>  \n",
                "\n",
                "<span style=\"color: #521136; font-size:20.0pt; font-style: bold;\">SQL script to get SQL Server instance and OS level info</span>"
            ],
            "metadata": {
                "azdata_cell_guid": "c3735c74-58bc-4dff-be17-2a7952f39462"
            }
        },
        {
            "cell_type": "code",
            "source": [
                "-- Get SQL Server Instance and OS Level Details\n",
                "-- ==============================================================================\n",
                "SELECT\n",
                "    SERVERPROPERTY('ServerName') AS [Instance Name],\n",
                "    CASE LEFT(CONVERT(VARCHAR, SERVERPROPERTY('ProductVersion')),4) \n",
                "\t\t\tWHEN '11.0' THEN 'SQL Server 2012'\n",
                "\t\t\tWHEN '12.0' THEN 'SQL Server 2014'\n",
                "\t\t\tWHEN '13.0' THEN 'SQL Server 2016'\n",
                "\t\t\tWHEN '14.0' THEN 'SQL Server 2017'\n",
                "            WHEN '15.0' THEN 'SQL Server 2019'\n",
                "\t\t\tELSE 'Newer than SQL Server 2019'\n",
                "\t\tEND AS [Version Build],\n",
                "    SERVERPROPERTY('ProductVersion') AS [Product Version],\n",
                "    SERVERPROPERTY('ProductUpdateLevel') AS [CU],\n",
                "    RIGHT(@@version, LEN(@@version)- 3 -charindex (' ON ', @@VERSION)) [OS Version],\n",
                "    SERVERPROPERTY ('Edition') AS [Edition],\n",
                "    [cpu_count] AS [CPUs],\n",
                "    [physical_memory_kb]/1024 AS [RAM (MB)]\n",
                "FROM sys.dm_os_sys_info;"
            ],
            "metadata": {
                "azdata_cell_guid": "6edb1b70-9c86-4fe2-a158-5861f62e6234"
            },
            "outputs": [],
            "execution_count": null
        }
    ]
}